{
  "nbformat": 4,
  "nbformat_minor": 0,
  "metadata": {
    "colab": {
      "name": "Sexual Assault",
      "version": "0.3.2",
      "provenance": []
    },
    "kernelspec": {
      "name": "python3",
      "display_name": "Python 3"
    }
  },
  "cells": [
    {
      "cell_type": "code",
      "metadata": {
        "id": "QAPEsgxKRO5I",
        "colab_type": "code",
        "colab": {}
      },
      "source": [
        "#Importing few libaries\n",
        "import numpy as np\n",
        "import pandas as pd\n",
        "import matplotlib\n",
        "import matplotlib.pyplot as plt\n",
        "import seaborn as sn \n",
        "import dateutil\n",
        "from sklearn import preprocessing\n",
        "import datetime"
      ],
      "execution_count": 0,
      "outputs": []
    },
    {
      "cell_type": "code",
      "metadata": {
        "id": "YLl8GyJoRd53",
        "colab_type": "code",
        "colab": {}
      },
      "source": [
        "#dateparse = lambda x: pd.datetime.strptime(x, '%Y-%m-%d')\n",
        "\n",
        "dataset = pd.read_csv('Sexual Assault Prevention Questionaire (Responses)-1.csv',header=0,encoding = 'unicode_escape')"
      ],
      "execution_count": 0,
      "outputs": []
    },
    {
      "cell_type": "code",
      "metadata": {
        "id": "5o2E5VQsbN36",
        "colab_type": "code",
        "outputId": "a1c61367-aa7b-4565-f13a-f2f4e24f1a94",
        "colab": {
          "base_uri": "https://localhost:8080/",
          "height": 1057
        }
      },
      "source": [
        "#Viewing the data\n",
        "dataset.head()"
      ],
      "execution_count": 3,
      "outputs": [
        {
          "output_type": "execute_result",
          "data": {
            "text/html": [
              "<div>\n",
              "<style scoped>\n",
              "    .dataframe tbody tr th:only-of-type {\n",
              "        vertical-align: middle;\n",
              "    }\n",
              "\n",
              "    .dataframe tbody tr th {\n",
              "        vertical-align: top;\n",
              "    }\n",
              "\n",
              "    .dataframe thead th {\n",
              "        text-align: right;\n",
              "    }\n",
              "</style>\n",
              "<table border=\"1\" class=\"dataframe\">\n",
              "  <thead>\n",
              "    <tr style=\"text-align: right;\">\n",
              "      <th></th>\n",
              "      <th>Timestamp</th>\n",
              "      <th>What is your current age?</th>\n",
              "      <th>Which of the categories best describe you?</th>\n",
              "      <th>How do you identify yourself?</th>\n",
              "      <th>Do you own or carry any forms of protection in case of sexual assault, attack, or other potential harm?</th>\n",
              "      <th>Would you buy a product that would help protect you before sexual assault was to occur?</th>\n",
              "      <th>Have you ever used any commercial DNA testing services (23andMe, Ancestry, etc)?</th>\n",
              "      <th>Have you ever been a victim of sexual assault or rape?</th>\n",
              "      <th>Have you ever witnessed assault or rape?</th>\n",
              "      <th>If you answered \"Yes\" or \"Maybe\" to \"Have you ever been a victim of sexual assault or rape?\" or \"Have you ever witnessed assault or rape?\", did you or the victim file a police report or go to the hospital afterwards?</th>\n",
              "      <th>If you did not file a police report or go to the hospital, why?</th>\n",
              "      <th>How comfortable do you feel going to the authorities (police or hospitals) on a scale of 1 to 10 (where 1 = Very Uncomfortable to 10=Very Comfortable).</th>\n",
              "      <th>Unnamed: 12</th>\n",
              "      <th>Unnamed: 13</th>\n",
              "      <th>Unnamed: 14</th>\n",
              "      <th>Unnamed: 15</th>\n",
              "      <th>Unnamed: 16</th>\n",
              "      <th>Unnamed: 17</th>\n",
              "    </tr>\n",
              "  </thead>\n",
              "  <tbody>\n",
              "    <tr>\n",
              "      <th>0</th>\n",
              "      <td>4/17/2019 13:38:41</td>\n",
              "      <td>35-45</td>\n",
              "      <td>White</td>\n",
              "      <td>Male</td>\n",
              "      <td>No, I do not own any forms of protection.</td>\n",
              "      <td>No, I would not buy something to protect me ag...</td>\n",
              "      <td>No</td>\n",
              "      <td>No</td>\n",
              "      <td>NaN</td>\n",
              "      <td>NaN</td>\n",
              "      <td>Na</td>\n",
              "      <td>NaN</td>\n",
              "      <td>NaN</td>\n",
              "      <td>NaN</td>\n",
              "      <td>NaN</td>\n",
              "      <td>NaN</td>\n",
              "      <td>NaN</td>\n",
              "      <td>NaN</td>\n",
              "    </tr>\n",
              "    <tr>\n",
              "      <th>1</th>\n",
              "      <td>4/17/2019 19:17:06</td>\n",
              "      <td>18-25</td>\n",
              "      <td>Asian/Pacific Islander</td>\n",
              "      <td>Female</td>\n",
              "      <td>No, I do not own or carry any forms of protect...</td>\n",
              "      <td>Maybe, I would think about buying a product to...</td>\n",
              "      <td>No</td>\n",
              "      <td>No</td>\n",
              "      <td>No</td>\n",
              "      <td>NaN</td>\n",
              "      <td>NaN</td>\n",
              "      <td>8.0</td>\n",
              "      <td>NaN</td>\n",
              "      <td>NaN</td>\n",
              "      <td>NaN</td>\n",
              "      <td>NaN</td>\n",
              "      <td>NaN</td>\n",
              "      <td>NaN</td>\n",
              "    </tr>\n",
              "    <tr>\n",
              "      <th>2</th>\n",
              "      <td>4/17/2019 19:54:41</td>\n",
              "      <td>18-25</td>\n",
              "      <td>Asian/Pacific Islander</td>\n",
              "      <td>Female</td>\n",
              "      <td>No, I do not own or carry any forms of protect...</td>\n",
              "      <td>Maybe, I would think about buying a product to...</td>\n",
              "      <td>No</td>\n",
              "      <td>Yes</td>\n",
              "      <td>No</td>\n",
              "      <td>No, I  nor the victim did not go to the hospit...</td>\n",
              "      <td>NaN</td>\n",
              "      <td>9.0</td>\n",
              "      <td>NaN</td>\n",
              "      <td>NaN</td>\n",
              "      <td>NaN</td>\n",
              "      <td>NaN</td>\n",
              "      <td>NaN</td>\n",
              "      <td>NaN</td>\n",
              "    </tr>\n",
              "    <tr>\n",
              "      <th>3</th>\n",
              "      <td>4/17/2019 16:39:58</td>\n",
              "      <td>18-25</td>\n",
              "      <td>Black</td>\n",
              "      <td>Female</td>\n",
              "      <td>No, I do not own or carry any forms of protect...</td>\n",
              "      <td>Maybe, I would think about buying a product to...</td>\n",
              "      <td>No</td>\n",
              "      <td>No</td>\n",
              "      <td>No</td>\n",
              "      <td>NaN</td>\n",
              "      <td>NaN</td>\n",
              "      <td>9.0</td>\n",
              "      <td>NaN</td>\n",
              "      <td>NaN</td>\n",
              "      <td>NaN</td>\n",
              "      <td>NaN</td>\n",
              "      <td>NaN</td>\n",
              "      <td>NaN</td>\n",
              "    </tr>\n",
              "    <tr>\n",
              "      <th>4</th>\n",
              "      <td>4/17/2019 19:06:39</td>\n",
              "      <td>18-25</td>\n",
              "      <td>Other</td>\n",
              "      <td>Male</td>\n",
              "      <td>No, I do not own or carry any forms of protect...</td>\n",
              "      <td>No, I would not buy something to protect me ag...</td>\n",
              "      <td>No</td>\n",
              "      <td>No</td>\n",
              "      <td>No</td>\n",
              "      <td>No, I  nor the victim did not go to the hospit...</td>\n",
              "      <td>NaN</td>\n",
              "      <td>5.0</td>\n",
              "      <td>NaN</td>\n",
              "      <td>NaN</td>\n",
              "      <td>NaN</td>\n",
              "      <td>NaN</td>\n",
              "      <td>NaN</td>\n",
              "      <td>NaN</td>\n",
              "    </tr>\n",
              "  </tbody>\n",
              "</table>\n",
              "</div>"
            ],
            "text/plain": [
              "            Timestamp What is your current age?  \\\n",
              "0  4/17/2019 13:38:41                     35-45   \n",
              "1  4/17/2019 19:17:06                     18-25   \n",
              "2  4/17/2019 19:54:41                     18-25   \n",
              "3  4/17/2019 16:39:58                     18-25   \n",
              "4  4/17/2019 19:06:39                     18-25   \n",
              "\n",
              "  Which of the categories best describe you? How do you identify yourself?  \\\n",
              "0                                      White                          Male   \n",
              "1                     Asian/Pacific Islander                        Female   \n",
              "2                     Asian/Pacific Islander                        Female   \n",
              "3                                      Black                        Female   \n",
              "4                                      Other                          Male   \n",
              "\n",
              "  Do you own or carry any forms of protection in case of sexual assault, attack, or other potential harm?  \\\n",
              "0          No, I do not own any forms of protection.                                                        \n",
              "1  No, I do not own or carry any forms of protect...                                                        \n",
              "2  No, I do not own or carry any forms of protect...                                                        \n",
              "3  No, I do not own or carry any forms of protect...                                                        \n",
              "4  No, I do not own or carry any forms of protect...                                                        \n",
              "\n",
              "  Would you buy a product that would help protect you before sexual assault was to occur?  \\\n",
              "0  No, I would not buy something to protect me ag...                                        \n",
              "1  Maybe, I would think about buying a product to...                                        \n",
              "2  Maybe, I would think about buying a product to...                                        \n",
              "3  Maybe, I would think about buying a product to...                                        \n",
              "4  No, I would not buy something to protect me ag...                                        \n",
              "\n",
              "  Have you ever used any commercial DNA testing services (23andMe, Ancestry, etc)?  \\\n",
              "0                                                 No                                 \n",
              "1                                                 No                                 \n",
              "2                                                 No                                 \n",
              "3                                                 No                                 \n",
              "4                                                 No                                 \n",
              "\n",
              "  Have you ever been a victim of sexual assault or rape?  \\\n",
              "0                                                 No       \n",
              "1                                                 No       \n",
              "2                                                Yes       \n",
              "3                                                 No       \n",
              "4                                                 No       \n",
              "\n",
              "  Have you ever witnessed assault or rape?  \\\n",
              "0                                      NaN   \n",
              "1                                       No   \n",
              "2                                       No   \n",
              "3                                       No   \n",
              "4                                       No   \n",
              "\n",
              "  If you answered \"Yes\" or \"Maybe\" to \"Have you ever been a victim of sexual assault or rape?\" or \"Have you ever witnessed assault or rape?\", did you or the victim file a police report or go to the hospital afterwards?  \\\n",
              "0                                                NaN                                                                                                                                                                         \n",
              "1                                                NaN                                                                                                                                                                         \n",
              "2  No, I  nor the victim did not go to the hospit...                                                                                                                                                                         \n",
              "3                                                NaN                                                                                                                                                                         \n",
              "4  No, I  nor the victim did not go to the hospit...                                                                                                                                                                         \n",
              "\n",
              "  If you did not file a police report or go to the hospital, why?  \\\n",
              "0                                                 Na                \n",
              "1                                                NaN                \n",
              "2                                                NaN                \n",
              "3                                                NaN                \n",
              "4                                                NaN                \n",
              "\n",
              "   How comfortable do you feel going to the authorities (police or hospitals) on a scale of 1 to 10 (where 1 = Very Uncomfortable to 10=Very Comfortable).  \\\n",
              "0                                                NaN                                                                                                         \n",
              "1                                                8.0                                                                                                         \n",
              "2                                                9.0                                                                                                         \n",
              "3                                                9.0                                                                                                         \n",
              "4                                                5.0                                                                                                         \n",
              "\n",
              "   Unnamed: 12  Unnamed: 13  Unnamed: 14  Unnamed: 15  Unnamed: 16  \\\n",
              "0          NaN          NaN          NaN          NaN          NaN   \n",
              "1          NaN          NaN          NaN          NaN          NaN   \n",
              "2          NaN          NaN          NaN          NaN          NaN   \n",
              "3          NaN          NaN          NaN          NaN          NaN   \n",
              "4          NaN          NaN          NaN          NaN          NaN   \n",
              "\n",
              "   Unnamed: 17  \n",
              "0          NaN  \n",
              "1          NaN  \n",
              "2          NaN  \n",
              "3          NaN  \n",
              "4          NaN  "
            ]
          },
          "metadata": {
            "tags": []
          },
          "execution_count": 3
        }
      ]
    },
    {
      "cell_type": "code",
      "metadata": {
        "id": "ATlAg6z0baK8",
        "colab_type": "code",
        "outputId": "f71dca87-e37a-4560-cda8-a2edb47c716f",
        "colab": {
          "base_uri": "https://localhost:8080/",
          "height": 34
        }
      },
      "source": [
        "dataset_len = len(dataset)\n",
        "print(\"dataset_length\",dataset_len)"
      ],
      "execution_count": 4,
      "outputs": [
        {
          "output_type": "stream",
          "text": [
            "dataset_length 1104\n"
          ],
          "name": "stdout"
        }
      ]
    },
    {
      "cell_type": "code",
      "metadata": {
        "id": "CFEJ7U9wcn7p",
        "colab_type": "code",
        "outputId": "df892b46-3d0a-417f-c6ef-640858c4decc",
        "colab": {
          "base_uri": "https://localhost:8080/",
          "height": 34
        }
      },
      "source": [
        "#Checking rows and columns\n",
        "dataset.shape"
      ],
      "execution_count": 5,
      "outputs": [
        {
          "output_type": "execute_result",
          "data": {
            "text/plain": [
              "(1104, 18)"
            ]
          },
          "metadata": {
            "tags": []
          },
          "execution_count": 5
        }
      ]
    },
    {
      "cell_type": "code",
      "metadata": {
        "id": "Rk3VQTh1dVYO",
        "colab_type": "code",
        "outputId": "bb3b758c-bb09-4008-fc3b-ece326e55848",
        "colab": {
          "base_uri": "https://localhost:8080/",
          "height": 360
        }
      },
      "source": [
        "#Checking data types of the coloumns\n",
        "dataset.dtypes"
      ],
      "execution_count": 6,
      "outputs": [
        {
          "output_type": "execute_result",
          "data": {
            "text/plain": [
              "Timestamp                                                                                                                                                                                                                    object\n",
              "What is your current age?                                                                                                                                                                                                    object\n",
              "Which of the categories best describe you?                                                                                                                                                                                   object\n",
              "How do you identify yourself?                                                                                                                                                                                                object\n",
              "Do you own or carry any forms of protection in case of sexual assault, attack, or other potential harm?                                                                                                                      object\n",
              "Would you buy a product that would help protect you before sexual assault was to occur?                                                                                                                                      object\n",
              "Have you ever used any commercial DNA testing services (23andMe, Ancestry, etc)?                                                                                                                                             object\n",
              "Have you ever been a victim of sexual assault or rape?                                                                                                                                                                       object\n",
              "Have you ever witnessed assault or rape?                                                                                                                                                                                     object\n",
              "If you answered \"Yes\" or \"Maybe\" to \"Have you ever been a victim of sexual assault or rape?\" or \"Have you ever witnessed assault or rape?\", did you or the victim file a police report or go to the hospital afterwards?     object\n",
              "If you did not file a police report or go to the hospital, why?                                                                                                                                                              object\n",
              "How comfortable do you feel going to the authorities (police or hospitals) on a scale of 1 to 10 (where 1 = Very Uncomfortable to 10=Very Comfortable).                                                                     float64\n",
              "Unnamed: 12                                                                                                                                                                                                                 float64\n",
              "Unnamed: 13                                                                                                                                                                                                                 float64\n",
              "Unnamed: 14                                                                                                                                                                                                                 float64\n",
              "Unnamed: 15                                                                                                                                                                                                                 float64\n",
              "Unnamed: 16                                                                                                                                                                                                                 float64\n",
              "Unnamed: 17                                                                                                                                                                                                                 float64\n",
              "dtype: object"
            ]
          },
          "metadata": {
            "tags": []
          },
          "execution_count": 6
        }
      ]
    },
    {
      "cell_type": "code",
      "metadata": {
        "id": "shbJm7cld_5T",
        "colab_type": "code",
        "colab": {}
      },
      "source": [
        "#This is to drop duplicate dataset in the columns\n",
        "dataset = dataset.drop_duplicates()"
      ],
      "execution_count": 0,
      "outputs": []
    },
    {
      "cell_type": "code",
      "metadata": {
        "id": "o5YrvyaNfLQz",
        "colab_type": "code",
        "outputId": "8608425c-abaf-4d3c-ebe2-b83d860dfccf",
        "colab": {
          "base_uri": "https://localhost:8080/",
          "height": 334
        }
      },
      "source": [
        "#Checking relationships between variables\n",
        "corr = dataset.corr()\n",
        "corr"
      ],
      "execution_count": 8,
      "outputs": [
        {
          "output_type": "execute_result",
          "data": {
            "text/html": [
              "<div>\n",
              "<style scoped>\n",
              "    .dataframe tbody tr th:only-of-type {\n",
              "        vertical-align: middle;\n",
              "    }\n",
              "\n",
              "    .dataframe tbody tr th {\n",
              "        vertical-align: top;\n",
              "    }\n",
              "\n",
              "    .dataframe thead th {\n",
              "        text-align: right;\n",
              "    }\n",
              "</style>\n",
              "<table border=\"1\" class=\"dataframe\">\n",
              "  <thead>\n",
              "    <tr style=\"text-align: right;\">\n",
              "      <th></th>\n",
              "      <th>How comfortable do you feel going to the authorities (police or hospitals) on a scale of 1 to 10 (where 1 = Very Uncomfortable to 10=Very Comfortable).</th>\n",
              "      <th>Unnamed: 12</th>\n",
              "      <th>Unnamed: 13</th>\n",
              "      <th>Unnamed: 14</th>\n",
              "      <th>Unnamed: 15</th>\n",
              "      <th>Unnamed: 16</th>\n",
              "      <th>Unnamed: 17</th>\n",
              "    </tr>\n",
              "  </thead>\n",
              "  <tbody>\n",
              "    <tr>\n",
              "      <th>How comfortable do you feel going to the authorities (police or hospitals) on a scale of 1 to 10 (where 1 = Very Uncomfortable to 10=Very Comfortable).</th>\n",
              "      <td>1.0</td>\n",
              "      <td>NaN</td>\n",
              "      <td>NaN</td>\n",
              "      <td>NaN</td>\n",
              "      <td>NaN</td>\n",
              "      <td>NaN</td>\n",
              "      <td>NaN</td>\n",
              "    </tr>\n",
              "    <tr>\n",
              "      <th>Unnamed: 12</th>\n",
              "      <td>NaN</td>\n",
              "      <td>NaN</td>\n",
              "      <td>NaN</td>\n",
              "      <td>NaN</td>\n",
              "      <td>NaN</td>\n",
              "      <td>NaN</td>\n",
              "      <td>NaN</td>\n",
              "    </tr>\n",
              "    <tr>\n",
              "      <th>Unnamed: 13</th>\n",
              "      <td>NaN</td>\n",
              "      <td>NaN</td>\n",
              "      <td>NaN</td>\n",
              "      <td>NaN</td>\n",
              "      <td>NaN</td>\n",
              "      <td>NaN</td>\n",
              "      <td>NaN</td>\n",
              "    </tr>\n",
              "    <tr>\n",
              "      <th>Unnamed: 14</th>\n",
              "      <td>NaN</td>\n",
              "      <td>NaN</td>\n",
              "      <td>NaN</td>\n",
              "      <td>NaN</td>\n",
              "      <td>NaN</td>\n",
              "      <td>NaN</td>\n",
              "      <td>NaN</td>\n",
              "    </tr>\n",
              "    <tr>\n",
              "      <th>Unnamed: 15</th>\n",
              "      <td>NaN</td>\n",
              "      <td>NaN</td>\n",
              "      <td>NaN</td>\n",
              "      <td>NaN</td>\n",
              "      <td>NaN</td>\n",
              "      <td>NaN</td>\n",
              "      <td>NaN</td>\n",
              "    </tr>\n",
              "    <tr>\n",
              "      <th>Unnamed: 16</th>\n",
              "      <td>NaN</td>\n",
              "      <td>NaN</td>\n",
              "      <td>NaN</td>\n",
              "      <td>NaN</td>\n",
              "      <td>NaN</td>\n",
              "      <td>NaN</td>\n",
              "      <td>NaN</td>\n",
              "    </tr>\n",
              "    <tr>\n",
              "      <th>Unnamed: 17</th>\n",
              "      <td>NaN</td>\n",
              "      <td>NaN</td>\n",
              "      <td>NaN</td>\n",
              "      <td>NaN</td>\n",
              "      <td>NaN</td>\n",
              "      <td>NaN</td>\n",
              "      <td>NaN</td>\n",
              "    </tr>\n",
              "  </tbody>\n",
              "</table>\n",
              "</div>"
            ],
            "text/plain": [
              "                                                    How comfortable do you feel going to the authorities (police or hospitals) on a scale of 1 to 10 (where 1 = Very Uncomfortable to 10=Very Comfortable).  \\\n",
              "How comfortable do you feel going to the author...                                                1.0                                                                                                         \n",
              "Unnamed: 12                                                                                       NaN                                                                                                         \n",
              "Unnamed: 13                                                                                       NaN                                                                                                         \n",
              "Unnamed: 14                                                                                       NaN                                                                                                         \n",
              "Unnamed: 15                                                                                       NaN                                                                                                         \n",
              "Unnamed: 16                                                                                       NaN                                                                                                         \n",
              "Unnamed: 17                                                                                       NaN                                                                                                         \n",
              "\n",
              "                                                    Unnamed: 12  Unnamed: 13  \\\n",
              "How comfortable do you feel going to the author...          NaN          NaN   \n",
              "Unnamed: 12                                                 NaN          NaN   \n",
              "Unnamed: 13                                                 NaN          NaN   \n",
              "Unnamed: 14                                                 NaN          NaN   \n",
              "Unnamed: 15                                                 NaN          NaN   \n",
              "Unnamed: 16                                                 NaN          NaN   \n",
              "Unnamed: 17                                                 NaN          NaN   \n",
              "\n",
              "                                                    Unnamed: 14  Unnamed: 15  \\\n",
              "How comfortable do you feel going to the author...          NaN          NaN   \n",
              "Unnamed: 12                                                 NaN          NaN   \n",
              "Unnamed: 13                                                 NaN          NaN   \n",
              "Unnamed: 14                                                 NaN          NaN   \n",
              "Unnamed: 15                                                 NaN          NaN   \n",
              "Unnamed: 16                                                 NaN          NaN   \n",
              "Unnamed: 17                                                 NaN          NaN   \n",
              "\n",
              "                                                    Unnamed: 16  Unnamed: 17  \n",
              "How comfortable do you feel going to the author...          NaN          NaN  \n",
              "Unnamed: 12                                                 NaN          NaN  \n",
              "Unnamed: 13                                                 NaN          NaN  \n",
              "Unnamed: 14                                                 NaN          NaN  \n",
              "Unnamed: 15                                                 NaN          NaN  \n",
              "Unnamed: 16                                                 NaN          NaN  \n",
              "Unnamed: 17                                                 NaN          NaN  "
            ]
          },
          "metadata": {
            "tags": []
          },
          "execution_count": 8
        }
      ]
    },
    {
      "cell_type": "code",
      "metadata": {
        "id": "i993TRgZfojG",
        "colab_type": "code",
        "outputId": "87100331-e8b4-4830-d2cd-2ccb733aae34",
        "colab": {
          "base_uri": "https://localhost:8080/",
          "height": 34
        }
      },
      "source": [
        "dataset.shape"
      ],
      "execution_count": 9,
      "outputs": [
        {
          "output_type": "execute_result",
          "data": {
            "text/plain": [
              "(1005, 18)"
            ]
          },
          "metadata": {
            "tags": []
          },
          "execution_count": 9
        }
      ]
    },
    {
      "cell_type": "code",
      "metadata": {
        "id": "ZOTjwDafgknF",
        "colab_type": "code",
        "outputId": "68bd5deb-b924-4084-e389-833f2676284b",
        "colab": {
          "base_uri": "https://localhost:8080/",
          "height": 34
        }
      },
      "source": [
        "#Identify constant features\n",
        "def identify_constant_features(dataframe):\n",
        "    count_uniques = dataframe.apply(lambda x: len(x.unique()))\n",
        "    constants = count_uniques[count_uniques == 1].index.tolist()\n",
        "    return constants\n",
        "\n",
        "constant_features_dataset = set(identify_constant_features(dataset))\n",
        "\n",
        "print('There were {} constant features in TRAIN dataset.'.format(len(constant_features_dataset)))"
      ],
      "execution_count": 10,
      "outputs": [
        {
          "output_type": "stream",
          "text": [
            "There were 6 constant features in TRAIN dataset.\n"
          ],
          "name": "stdout"
        }
      ]
    },
    {
      "cell_type": "code",
      "metadata": {
        "id": "ivg16uAmhlNz",
        "colab_type": "code",
        "colab": {}
      },
      "source": [
        "# Drop the constant features\n",
        "dataset.drop(constant_features_dataset, inplace=True, axis=1)"
      ],
      "execution_count": 0,
      "outputs": []
    },
    {
      "cell_type": "code",
      "metadata": {
        "id": "4qe_LhnNhwnb",
        "colab_type": "code",
        "outputId": "235cfe06-412a-488f-89ac-5873eaa140be",
        "colab": {
          "base_uri": "https://localhost:8080/",
          "height": 34
        }
      },
      "source": [
        "dataset.shape"
      ],
      "execution_count": 12,
      "outputs": [
        {
          "output_type": "execute_result",
          "data": {
            "text/plain": [
              "(1005, 12)"
            ]
          },
          "metadata": {
            "tags": []
          },
          "execution_count": 12
        }
      ]
    },
    {
      "cell_type": "code",
      "metadata": {
        "id": "IOVT3jxUhz38",
        "colab_type": "code",
        "colab": {}
      },
      "source": [
        "# Visualisation\n",
        "import matplotlib as mpl\n",
        "import matplotlib.pyplot as plt\n",
        "import matplotlib.pylab as pylab\n",
        "import seaborn as sns"
      ],
      "execution_count": 0,
      "outputs": []
    },
    {
      "cell_type": "code",
      "metadata": {
        "id": "JwmLp43BLPIB",
        "colab_type": "code",
        "colab": {}
      },
      "source": [
        "# Configure visualisations\n",
        "%matplotlib inline\n",
        "mpl.style.use( 'ggplot' )\n",
        "sns.set_style( 'white' )\n",
        "pylab.rcParams[ 'figure.figsize' ] = 8 , 6"
      ],
      "execution_count": 0,
      "outputs": []
    },
    {
      "cell_type": "code",
      "metadata": {
        "id": "wqPG2ZJgLTbV",
        "colab_type": "code",
        "colab": {}
      },
      "source": [
        "def plot_histograms( df , variables , n_rows , n_cols ):\n",
        "    fig = plt.figure( figsize = ( 16 , 12 ) )\n",
        "    for i, var_name in enumerate( variables ):\n",
        "        ax=fig.add_subplot( n_rows , n_cols , i+1 )\n",
        "        df[ var_name ].hist( bins=10 , ax=ax )\n",
        "        ax.set_title( 'Skew: ' + str( round( float( df[ var_name ].skew() ) , ) ) ) # + ' ' + var_name ) #var_name+\" Distribution\")\n",
        "        ax.set_xticklabels( [] , visible=False )\n",
        "        ax.set_yticklabels( [] , visible=False )\n",
        "    fig.tight_layout()  # Improves appearance a bit.\n",
        "    plt.show()\n",
        "\n",
        "def plot_distribution( df , var , target , **kwargs ):\n",
        "    row = kwargs.get( 'row' , None )\n",
        "    col = kwargs.get( 'col' , None )\n",
        "    facet = sns.FacetGrid( df , hue=target , aspect=4 , row = row , col = col )\n",
        "    facet.map( sns.kdeplot , var , shade= True )\n",
        "    facet.set( xlim=( 0 , df[ var ].max() ) )\n",
        "    facet.add_legend()\n",
        "\n",
        "def plot_categories( df , cat , target , **kwargs ):\n",
        "    row = kwargs.get( 'row' , None )\n",
        "    col = kwargs.get( 'col' , None )\n",
        "    facet = sns.FacetGrid( df , row = row , col = col )\n",
        "    facet.map( sns.barplot , cat , target )\n",
        "    facet.add_legend()\n",
        "\n",
        "def plot_correlation_map( df ):\n",
        "    corr = dataset.corr()\n",
        "    _ , ax = plt.subplots( figsize =( 12 , 10 ) )\n",
        "    cmap = sns.diverging_palette( 220 , 10 , as_cmap = True )\n",
        "    _ = sns.heatmap(\n",
        "        corr, \n",
        "        cmap = cmap,\n",
        "        square=True, \n",
        "        cbar_kws={ 'shrink' : .9 }, \n",
        "        ax=ax, \n",
        "        annot = True, \n",
        "        annot_kws = { 'fontsize' : 12 }\n",
        "    )\n",
        "\n",
        "def describe_more( df ):\n",
        "    var = [] ; l = [] ; t = []\n",
        "    for x in df:\n",
        "        var.append( x )\n",
        "        l.append( len( pd.value_counts( df[ x ] ) ) )\n",
        "        t.append( df[ x ].dtypes )\n",
        "    levels = pd.DataFrame( { 'Variable' : var , 'Levels' : l , 'Datatype' : t } )\n",
        "    levels.sort_values( by = 'Levels' , inplace = True )\n",
        "    return levels\n",
        "\n",
        "def plot_variable_importance( X , y ):\n",
        "    tree = DecisionTreeClassifier( random_state = 99 )\n",
        "    tree.fit( X , y )\n",
        "    plot_model_var_imp( tree , X , y )\n",
        "    \n",
        "def plot_model_var_imp( model , X , y ):\n",
        "    imp = pd.DataFrame( \n",
        "        model.feature_importances_  , \n",
        "        columns = [ 'Importance' ] , \n",
        "        index = X.columns \n",
        "    )\n",
        "    imp = imp.sort_values( [ 'Importance' ] , ascending = True )\n",
        "    imp[ : 10 ].plot( kind = 'barh' )\n",
        "    print (model.score( X , y ))"
      ],
      "execution_count": 0,
      "outputs": []
    },
    {
      "cell_type": "code",
      "metadata": {
        "id": "K2jqf-M6O0MQ",
        "colab_type": "code",
        "outputId": "c8342476-0d12-4a81-fe4a-526f625ecc6b",
        "colab": {
          "base_uri": "https://localhost:8080/",
          "height": 258
        }
      },
      "source": [
        "#Checking data types of the coloumns\n",
        "dataset.dtypes"
      ],
      "execution_count": 16,
      "outputs": [
        {
          "output_type": "execute_result",
          "data": {
            "text/plain": [
              "Timestamp                                                                                                                                                                                                                    object\n",
              "What is your current age?                                                                                                                                                                                                    object\n",
              "Which of the categories best describe you?                                                                                                                                                                                   object\n",
              "How do you identify yourself?                                                                                                                                                                                                object\n",
              "Do you own or carry any forms of protection in case of sexual assault, attack, or other potential harm?                                                                                                                      object\n",
              "Would you buy a product that would help protect you before sexual assault was to occur?                                                                                                                                      object\n",
              "Have you ever used any commercial DNA testing services (23andMe, Ancestry, etc)?                                                                                                                                             object\n",
              "Have you ever been a victim of sexual assault or rape?                                                                                                                                                                       object\n",
              "Have you ever witnessed assault or rape?                                                                                                                                                                                     object\n",
              "If you answered \"Yes\" or \"Maybe\" to \"Have you ever been a victim of sexual assault or rape?\" or \"Have you ever witnessed assault or rape?\", did you or the victim file a police report or go to the hospital afterwards?     object\n",
              "If you did not file a police report or go to the hospital, why?                                                                                                                                                              object\n",
              "How comfortable do you feel going to the authorities (police or hospitals) on a scale of 1 to 10 (where 1 = Very Uncomfortable to 10=Very Comfortable).                                                                     float64\n",
              "dtype: object"
            ]
          },
          "metadata": {
            "tags": []
          },
          "execution_count": 16
        }
      ]
    },
    {
      "cell_type": "code",
      "metadata": {
        "id": "ATwl3a1TQTe2",
        "colab_type": "code",
        "outputId": "4f1f0c9d-fde1-4fd0-929c-275e77f92f0d",
        "colab": {
          "base_uri": "https://localhost:8080/",
          "height": 297
        }
      },
      "source": [
        "dataset.describe()"
      ],
      "execution_count": 17,
      "outputs": [
        {
          "output_type": "execute_result",
          "data": {
            "text/html": [
              "<div>\n",
              "<style scoped>\n",
              "    .dataframe tbody tr th:only-of-type {\n",
              "        vertical-align: middle;\n",
              "    }\n",
              "\n",
              "    .dataframe tbody tr th {\n",
              "        vertical-align: top;\n",
              "    }\n",
              "\n",
              "    .dataframe thead th {\n",
              "        text-align: right;\n",
              "    }\n",
              "</style>\n",
              "<table border=\"1\" class=\"dataframe\">\n",
              "  <thead>\n",
              "    <tr style=\"text-align: right;\">\n",
              "      <th></th>\n",
              "      <th>How comfortable do you feel going to the authorities (police or hospitals) on a scale of 1 to 10 (where 1 = Very Uncomfortable to 10=Very Comfortable).</th>\n",
              "    </tr>\n",
              "  </thead>\n",
              "  <tbody>\n",
              "    <tr>\n",
              "      <th>count</th>\n",
              "      <td>1003.000000</td>\n",
              "    </tr>\n",
              "    <tr>\n",
              "      <th>mean</th>\n",
              "      <td>6.481555</td>\n",
              "    </tr>\n",
              "    <tr>\n",
              "      <th>std</th>\n",
              "      <td>2.812931</td>\n",
              "    </tr>\n",
              "    <tr>\n",
              "      <th>min</th>\n",
              "      <td>1.000000</td>\n",
              "    </tr>\n",
              "    <tr>\n",
              "      <th>25%</th>\n",
              "      <td>5.000000</td>\n",
              "    </tr>\n",
              "    <tr>\n",
              "      <th>50%</th>\n",
              "      <td>7.000000</td>\n",
              "    </tr>\n",
              "    <tr>\n",
              "      <th>75%</th>\n",
              "      <td>9.000000</td>\n",
              "    </tr>\n",
              "    <tr>\n",
              "      <th>max</th>\n",
              "      <td>10.000000</td>\n",
              "    </tr>\n",
              "  </tbody>\n",
              "</table>\n",
              "</div>"
            ],
            "text/plain": [
              "       How comfortable do you feel going to the authorities (police or hospitals) on a scale of 1 to 10 (where 1 = Very Uncomfortable to 10=Very Comfortable).\n",
              "count                                        1003.000000                                                                                                      \n",
              "mean                                            6.481555                                                                                                      \n",
              "std                                             2.812931                                                                                                      \n",
              "min                                             1.000000                                                                                                      \n",
              "25%                                             5.000000                                                                                                      \n",
              "50%                                             7.000000                                                                                                      \n",
              "75%                                             9.000000                                                                                                      \n",
              "max                                            10.000000                                                                                                      "
            ]
          },
          "metadata": {
            "tags": []
          },
          "execution_count": 17
        }
      ]
    },
    {
      "cell_type": "code",
      "metadata": {
        "id": "twBjSxgcS6vc",
        "colab_type": "code",
        "colab": {}
      },
      "source": [
        "#dummies = pd.get_dummies(dataset['How do you identify yourself?'])"
      ],
      "execution_count": 0,
      "outputs": []
    },
    {
      "cell_type": "code",
      "metadata": {
        "id": "rukyMN7cVmqf",
        "colab_type": "code",
        "colab": {}
      },
      "source": [
        "#dummies = pd.get_dummies(dataset['What is your current age?'])"
      ],
      "execution_count": 0,
      "outputs": []
    },
    {
      "cell_type": "code",
      "metadata": {
        "id": "iyby3mC0w0LR",
        "colab_type": "code",
        "colab": {
          "base_uri": "https://localhost:8080/",
          "height": 258
        },
        "outputId": "ac025abc-8bd0-4997-88fc-0f12f72a622a"
      },
      "source": [
        "dataset.isnull().sum()"
      ],
      "execution_count": 20,
      "outputs": [
        {
          "output_type": "execute_result",
          "data": {
            "text/plain": [
              "Timestamp                                                                                                                                                                                                                     1\n",
              "What is your current age?                                                                                                                                                                                                     1\n",
              "Which of the categories best describe you?                                                                                                                                                                                    1\n",
              "How do you identify yourself?                                                                                                                                                                                                 1\n",
              "Do you own or carry any forms of protection in case of sexual assault, attack, or other potential harm?                                                                                                                       1\n",
              "Would you buy a product that would help protect you before sexual assault was to occur?                                                                                                                                       1\n",
              "Have you ever used any commercial DNA testing services (23andMe, Ancestry, etc)?                                                                                                                                              1\n",
              "Have you ever been a victim of sexual assault or rape?                                                                                                                                                                        1\n",
              "Have you ever witnessed assault or rape?                                                                                                                                                                                      2\n",
              "If you answered \"Yes\" or \"Maybe\" to \"Have you ever been a victim of sexual assault or rape?\" or \"Have you ever witnessed assault or rape?\", did you or the victim file a police report or go to the hospital afterwards?    561\n",
              "If you did not file a police report or go to the hospital, why?                                                                                                                                                             775\n",
              "How comfortable do you feel going to the authorities (police or hospitals) on a scale of 1 to 10 (where 1 = Very Uncomfortable to 10=Very Comfortable).                                                                       2\n",
              "dtype: int64"
            ]
          },
          "metadata": {
            "tags": []
          },
          "execution_count": 20
        }
      ]
    },
    {
      "cell_type": "code",
      "metadata": {
        "id": "qzgWqdbfyqxW",
        "colab_type": "code",
        "colab": {
          "base_uri": "https://localhost:8080/",
          "height": 258
        },
        "outputId": "c833240d-7491-4b81-8261-972e7e7f0a65"
      },
      "source": [
        "dataset = dataset.dropna(thresh = 3)\n",
        "\n",
        "dataset.isnull().sum()"
      ],
      "execution_count": 25,
      "outputs": [
        {
          "output_type": "execute_result",
          "data": {
            "text/plain": [
              "Timestamp                                                                                                                                                                                                                     0\n",
              "What is your current age?                                                                                                                                                                                                     0\n",
              "Which of the categories best describe you?                                                                                                                                                                                    0\n",
              "How do you identify yourself?                                                                                                                                                                                                 0\n",
              "Do you own or carry any forms of protection in case of sexual assault, attack, or other potential harm?                                                                                                                       0\n",
              "Would you buy a product that would help protect you before sexual assault was to occur?                                                                                                                                       0\n",
              "Have you ever used any commercial DNA testing services (23andMe, Ancestry, etc)?                                                                                                                                              0\n",
              "Have you ever been a victim of sexual assault or rape?                                                                                                                                                                        0\n",
              "Have you ever witnessed assault or rape?                                                                                                                                                                                      1\n",
              "If you answered \"Yes\" or \"Maybe\" to \"Have you ever been a victim of sexual assault or rape?\" or \"Have you ever witnessed assault or rape?\", did you or the victim file a police report or go to the hospital afterwards?    560\n",
              "If you did not file a police report or go to the hospital, why?                                                                                                                                                             774\n",
              "How comfortable do you feel going to the authorities (police or hospitals) on a scale of 1 to 10 (where 1 = Very Uncomfortable to 10=Very Comfortable).                                                                       1\n",
              "dtype: int64"
            ]
          },
          "metadata": {
            "tags": []
          },
          "execution_count": 25
        }
      ]
    },
    {
      "cell_type": "code",
      "metadata": {
        "id": "ONnbsfhQzrmO",
        "colab_type": "code",
        "colab": {
          "base_uri": "https://localhost:8080/",
          "height": 136
        },
        "outputId": "587dc89d-d93a-4b59-cf5f-be21fcc41606"
      },
      "source": [
        "dataset['What is your current age?'].value_counts()"
      ],
      "execution_count": 37,
      "outputs": [
        {
          "output_type": "execute_result",
          "data": {
            "text/plain": [
              "25-35       442\n",
              "18-25       239\n",
              "35-45       188\n",
              "45-55        81\n",
              "55+          50\n",
              "Under 18      4\n",
              "Name: What is your current age?, dtype: int64"
            ]
          },
          "metadata": {
            "tags": []
          },
          "execution_count": 37
        }
      ]
    },
    {
      "cell_type": "code",
      "metadata": {
        "id": "FSnu5DyY0s_Y",
        "colab_type": "code",
        "colab": {}
      },
      "source": [
        "labels = dataset['What is your current age?'].value_counts().index.to_list()\n",
        "sizes = dataset['What is your current age?'].value_counts().values.tolist()"
      ],
      "execution_count": 0,
      "outputs": []
    },
    {
      "cell_type": "code",
      "metadata": {
        "id": "F8c64wbK1EFd",
        "colab_type": "code",
        "colab": {
          "base_uri": "https://localhost:8080/",
          "height": 34
        },
        "outputId": "c0c267da-853e-40df-d096-f412160819d8"
      },
      "source": [
        "dataset['What is your current age?'].value_counts().values.tolist()"
      ],
      "execution_count": 40,
      "outputs": [
        {
          "output_type": "execute_result",
          "data": {
            "text/plain": [
              "[442, 239, 188, 81, 50, 4]"
            ]
          },
          "metadata": {
            "tags": []
          },
          "execution_count": 40
        }
      ]
    },
    {
      "cell_type": "code",
      "metadata": {
        "id": "D5Hg0DWc0fE0",
        "colab_type": "code",
        "colab": {
          "base_uri": "https://localhost:8080/",
          "height": 583
        },
        "outputId": "07510d48-b0fc-4714-eb4a-81a93fc79d37"
      },
      "source": [
        "labels = dataset['What is your current age?'].value_counts().index.to_list()\n",
        "sizes = dataset['What is your current age?'].value_counts().values.tolist()\n",
        "\n",
        "explode = (0.1, 0, 0, 0,0,0) \n",
        "\n",
        "fig1, ax1 = plt.subplots(figsize=(7,7))\n",
        "ax1.pie(sizes, explode=explode, labels=labels, autopct='%1.1f%%',\n",
        "        shadow=True, startangle=90)\n",
        "ax1.axis('equal')  # Equal aspect ratio ensures that pie is drawn as a circle.\n",
        "\n",
        "plt.show()"
      ],
      "execution_count": 49,
      "outputs": [
        {
          "output_type": "display_data",
          "data": {
            "image/png": "[encoded data removed]",
            "text/plain": [
              "<Figure size 700x700 with 1 Axes>"
            ]
          },
          "metadata": {
            "tags": []
          }
        }
      ]
    },
    {
      "cell_type": "code",
      "metadata": {
        "id": "Ewe8JZGG2A4B",
        "colab_type": "code",
        "colab": {
          "base_uri": "https://localhost:8080/",
          "height": 472
        },
        "outputId": "1403b773-fe9c-4bff-cd7b-c5e1e2ed4e32"
      },
      "source": [
        "import matplotlib.pyplot as plt\n",
        "import numpy as np\n",
        "\n",
        "# Fixing random state for reproducibility\n",
        "np.random.seed(19680801)\n",
        "\n",
        "\n",
        "plt.rcdefaults()\n",
        "fig, ax = plt.subplots()\n",
        "\n",
        "# Example data\n",
        "labels = dataset['What is your current age?'].value_counts().index.to_list()\n",
        "y_pos = np.arange(len(labels))\n",
        "performance = sizes * np.random.rand(len(labels))\n",
        "error = np.random.rand(len(labels))\n",
        "\n",
        "ax.barh(y_pos, performance, xerr=error, align='center',\n",
        "        color='blue', ecolor='black')\n",
        "ax.set_yticks(y_pos)\n",
        "ax.set_yticklabels(labels)\n",
        "ax.invert_yaxis()  # labels read top-to-bottom\n",
        "ax.set_xlabel('Total number')\n",
        "ax.set_title('What is your current age?')\n",
        "\n",
        "plt.show()"
      ],
      "execution_count": 51,
      "outputs": [
        {
          "output_type": "display_data",
          "data": {
            "image/png": "[encoded data removed]",
            "text/plain": [
              "<Figure size 640x480 with 1 Axes>"
            ]
          },
          "metadata": {
            "tags": []
          }
        }
      ]
    },
    {
      "cell_type": "code",
      "metadata": {
        "id": "YnJDkAzM6crs",
        "colab_type": "code",
        "colab": {
          "base_uri": "https://localhost:8080/",
          "height": 68
        },
        "outputId": "f879944c-47bb-435c-bf1d-5d443c8dad4c"
      },
      "source": [
        "dataset['Have you ever witnessed assault or rape?'].value_counts()"
      ],
      "execution_count": 50,
      "outputs": [
        {
          "output_type": "execute_result",
          "data": {
            "text/plain": [
              "No     830\n",
              "Yes    173\n",
              "Name: Have you ever witnessed assault or rape?, dtype: int64"
            ]
          },
          "metadata": {
            "tags": []
          },
          "execution_count": 50
        }
      ]
    },
    {
      "cell_type": "code",
      "metadata": {
        "id": "O81u9Nfg8t2m",
        "colab_type": "code",
        "colab": {
          "base_uri": "https://localhost:8080/",
          "height": 429
        },
        "outputId": "7d8277a5-31ab-40b6-9a1d-9c455c987138"
      },
      "source": [
        "labels1 = dataset['Have you ever witnessed assault or rape?'].value_counts().index.to_list()\n",
        "sizes1 = dataset['Have you ever witnessed assault or rape?'].value_counts().values.tolist()\n",
        "\n",
        "explode = (0.1,0) \n",
        "\n",
        "fig1, ax1 = plt.subplots(figsize=(5,5))\n",
        "ax1.pie(sizes1, explode=explode, labels=labels1, autopct='%1.1f%%',\n",
        "        shadow=True, startangle=90)\n",
        "ax1.axis('equal')  # Equal aspect ratio ensures that pie is drawn as a circle.\n",
        "\n",
        "plt.show()"
      ],
      "execution_count": 60,
      "outputs": [
        {
          "output_type": "display_data",
          "data": {
            "image/png": "[encoded data removed]",
            "text/plain": [
              "<Figure size 500x500 with 1 Axes>"
            ]
          },
          "metadata": {
            "tags": []
          }
        }
      ]
    },
    {
      "cell_type": "code",
      "metadata": {
        "id": "DADDwz9z__9A",
        "colab_type": "code",
        "colab": {
          "base_uri": "https://localhost:8080/",
          "height": 238
        },
        "outputId": "886390e5-9161-465e-bf93-0a2f1c172986"
      },
      "source": [
        "dataset.groupby(['What is your current age?', 'Have you ever witnessed assault or rape?'])['Timestamp'].count()"
      ],
      "execution_count": 75,
      "outputs": [
        {
          "output_type": "execute_result",
          "data": {
            "text/plain": [
              "What is your current age?  Have you ever witnessed assault or rape?\n",
              "18-25                      No                                          185\n",
              "                           Yes                                          54\n",
              "25-35                      No                                          354\n",
              "                           Yes                                          88\n",
              "35-45                      No                                          166\n",
              "                           Yes                                          21\n",
              "45-55                      No                                           74\n",
              "                           Yes                                           7\n",
              "55+                        No                                           47\n",
              "                           Yes                                           3\n",
              "Under 18                   No                                            4\n",
              "Name: Timestamp, dtype: int64"
            ]
          },
          "metadata": {
            "tags": []
          },
          "execution_count": 75
        }
      ]
    },
    {
      "cell_type": "code",
      "metadata": {
        "id": "eZDk4t3gEIaV",
        "colab_type": "code",
        "colab": {}
      },
      "source": [
        "def stacked_bar(data, series_labels, category_labels=None, \n",
        "                show_values=False, value_format=\"{}\", y_label=None, \n",
        "                grid=True, reverse=False):\n",
        "    \"\"\"Plots a stacked bar chart with the data and labels provided.\n",
        "\n",
        "    Keyword arguments:\n",
        "    data            -- 2-dimensional numpy array or nested list\n",
        "                       containing data for each series in rows\n",
        "    series_labels   -- list of series labels (these appear in\n",
        "                       the legend)\n",
        "    category_labels -- list of category labels (these appear\n",
        "                       on the x-axis)\n",
        "    show_values     -- If True then numeric value labels will \n",
        "                       be shown on each bar\n",
        "    value_format    -- Format string for numeric value labels\n",
        "                       (default is \"{}\")\n",
        "    y_label         -- Label for y-axis (str)\n",
        "    grid            -- If True display grid\n",
        "    reverse         -- If True reverse the order that the\n",
        "                       series are displayed (left-to-right\n",
        "                       or right-to-left)\n",
        "    \"\"\"\n",
        "\n",
        "    ny = len(data[0])\n",
        "    ind = list(range(ny))\n",
        "\n",
        "    axes = []\n",
        "    cum_size = np.zeros(ny)\n",
        "\n",
        "    data = np.array(data)\n",
        "\n",
        "    if reverse:\n",
        "        data = np.flip(data, axis=1)\n",
        "        category_labels = reversed(category_labels)\n",
        "\n",
        "    for i, row_data in enumerate(data):\n",
        "        axes.append(plt.bar(ind, row_data, bottom=cum_size, \n",
        "                            label=series_labels[i]))\n",
        "        cum_size += row_data\n",
        "\n",
        "    if category_labels:\n",
        "        plt.xticks(ind, category_labels)\n",
        "\n",
        "    if y_label:\n",
        "        plt.ylabel(y_label)\n",
        "\n",
        "    plt.legend()\n",
        "\n",
        "    if grid:\n",
        "        plt.grid()\n",
        "\n",
        "    if show_values:\n",
        "        for axis in axes:\n",
        "            for bar in axis:\n",
        "                w, h = bar.get_width(), bar.get_height()\n",
        "                plt.text(bar.get_x() + w/2, bar.get_y() + h/2, \n",
        "                         value_format.format(h), ha=\"center\", \n",
        "                         va=\"center\")"
      ],
      "execution_count": 0,
      "outputs": []
    },
    {
      "cell_type": "code",
      "metadata": {
        "id": "HVOWcZvSDDbG",
        "colab_type": "code",
        "colab": {
          "base_uri": "https://localhost:8080/",
          "height": 680
        },
        "outputId": "4acf2c92-10c0-4ad8-d9c5-fffe4a776eae"
      },
      "source": [
        "plt.figure(figsize=(8, 8))\n",
        "\n",
        "series_labels = ['No', 'Yes']\n",
        "\n",
        "data = [\n",
        "    [185, 354, 166, 74, 47, 4],\n",
        "    [54, 88, 21, 7, 3, 0]\n",
        "]\n",
        "\n",
        "category_labels = ['18-25', '25-35', '35-45', '45-55', '55+', 'Under 18']\n",
        "\n",
        "stacked_bar(\n",
        "    data, \n",
        "    series_labels, \n",
        "    category_labels=category_labels, \n",
        "    show_values=True, \n",
        "    value_format=\"{:.1f}\",\n",
        "    y_label=\"Have you ever witnessed assault or rape?\"\n",
        ")\n",
        "\n",
        "plt.savefig('bar.png')\n",
        "plt.show()"
      ],
      "execution_count": 80,
      "outputs": [
        {
          "output_type": "display_data",
          "data": {
            "image/png": "[encoded data removed]",
            "text/plain": [
              "<Figure size 800x800 with 1 Axes>"
            ]
          },
          "metadata": {
            "tags": []
          }
        }
      ]
    }
  ]
}